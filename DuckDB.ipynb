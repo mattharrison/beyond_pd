{
 "cells": [
  {
   "cell_type": "code",
   "execution_count": null,
   "id": "aebaef2c-a0a9-4598-aea1-5bed9608b832",
   "metadata": {
    "collapsed": true,
    "jupyter": {
     "outputs_hidden": true
    }
   },
   "outputs": [],
   "source": [
    "!pip install -U polars duckdb pyarrow"
   ]
  },
  {
   "cell_type": "code",
   "execution_count": null,
   "id": "ec701940",
   "metadata": {},
   "outputs": [],
   "source": []
  },
  {
   "attachments": {},
   "cell_type": "markdown",
   "id": "7de58c28",
   "metadata": {},
   "source": [
    "## DuckDB \n",
    "\n",
    "DuckDB is an \"in-process\" SQL OLAP database management system.\n",
    "\n",
    "* No depependencies (written in C++)\n",
    "* No setup. No server (embedded)\n",
    "* Support for complex queries, including window functions, CTEs, and subqueries\n",
    "* Open Source (MIT License)"
   ]
  },
  {
   "attachments": {},
   "cell_type": "markdown",
   "id": "04bfd4fe",
   "metadata": {},
   "source": [
    "### Installation\n",
    "\n",
    "On Python you can install DuckDB with pip:\n",
    "\n",
    "```bash\n",
    "pip install duckdb\n",
    "```\n",
    "\n",
    "Supporting libraries:\n"
   ]
  },
  {
   "cell_type": "code",
   "execution_count": null,
   "id": "9400b9c0",
   "metadata": {},
   "outputs": [],
   "source": [
    "!pip install jupysql"
   ]
  },
  {
   "cell_type": "code",
   "execution_count": null,
   "id": "36369fb2",
   "metadata": {},
   "outputs": [],
   "source": [
    "%reload_ext sql\n",
    "%config SqlMagic.autopandas = True\n",
    "%config SqlMagic.feedback = True\n",
    "%config SqlMagic.displaycon = True\n"
   ]
  },
  {
   "cell_type": "code",
   "execution_count": null,
   "id": "f27298dc",
   "metadata": {},
   "outputs": [],
   "source": [
    "%sql duckdb:///:memory: select 42"
   ]
  },
  {
   "cell_type": "code",
   "execution_count": null,
   "id": "64827bba",
   "metadata": {},
   "outputs": [],
   "source": [
    "%%sql \n",
    "\n",
    "select 42"
   ]
  },
  {
   "cell_type": "code",
   "execution_count": null,
   "id": "bbfdfa49",
   "metadata": {},
   "outputs": [],
   "source": [
    "%%sql\n",
    "\n",
    "df_42 << select 42"
   ]
  },
  {
   "cell_type": "code",
   "execution_count": null,
   "id": "96964a2b",
   "metadata": {},
   "outputs": [],
   "source": [
    "df_42"
   ]
  },
  {
   "attachments": {},
   "cell_type": "markdown",
   "id": "eb633565",
   "metadata": {},
   "source": [
    "# Load Data\n"
   ]
  },
  {
   "cell_type": "code",
   "execution_count": null,
   "id": "4ed5eb44",
   "metadata": {},
   "outputs": [],
   "source": [
    "%%sql\n",
    "\n",
    "DROP TABLE IF EXISTS vehicles;\n",
    "CREATE TABLE vehicles AS FROM read_csv_auto('vehicles-pd.csv')"
   ]
  },
  {
   "cell_type": "code",
   "execution_count": null,
   "id": "f98d8e78",
   "metadata": {},
   "outputs": [],
   "source": [
    "%%sql\n",
    "select * from vehicles"
   ]
  },
  {
   "attachments": {},
   "cell_type": "markdown",
   "id": "eb233108",
   "metadata": {},
   "source": [
    "## Use Python instead of Cell Magic\n"
   ]
  },
  {
   "cell_type": "code",
   "execution_count": null,
   "id": "4f26a374",
   "metadata": {},
   "outputs": [],
   "source": [
    "# Note that this is a new connection, so the table is not available\n",
    "import duckdb\n",
    "con = duckdb.connect(':memory:')\n",
    "con.execute('select * from vehicles').fetchdf()"
   ]
  },
  {
   "cell_type": "code",
   "execution_count": null,
   "id": "4f26a374",
   "metadata": {},
   "outputs": [],
   "source": [
    "# Note that this is a new connection, so the table is not available\n",
    "import duckdb\n",
    "con = duckdb.connect('vehicle.db')\n",
    "sql = '''DROP TABLE IF EXISTS vehicles;\n",
    "CREATE TABLE vehicles AS FROM read_csv_auto('vehicles-pd.csv')'''\n",
    "con.execute(sql)"
   ]
  },
  {
   "cell_type": "code",
   "execution_count": null,
   "id": "9b337802",
   "metadata": {},
   "outputs": [],
   "source": [
    "%%sql duckdb:///vehicle.db\n",
    "select * from vehicles"
   ]
  },
  {
   "cell_type": "code",
   "execution_count": null,
   "id": "d22dfb75",
   "metadata": {},
   "outputs": [],
   "source": [
    "%%sql\n",
    "\n",
    "select * from vehicles"
   ]
  },
  {
   "cell_type": "code",
   "execution_count": null,
   "id": "63e8a174",
   "metadata": {},
   "outputs": [],
   "source": []
  },
  {
   "attachments": {},
   "cell_type": "markdown",
   "id": "1f3ffc71",
   "metadata": {},
   "source": [
    "## Show Complex Query"
   ]
  },
  {
   "cell_type": "code",
   "execution_count": null,
   "id": "898a0199",
   "metadata": {},
   "outputs": [],
   "source": [
    "%%sql \n",
    "DROP TABLE IF EXISTS origin_map;\n",
    "CREATE TABLE origin_map AS (\n",
    "    SELECT * FROM (VALUES \n",
    "        ('Chevrolet', 'USA'),\n",
    "        ('Ford', 'USA'),\n",
    "        ('Dodge', 'USA'),\n",
    "        ('GMC', 'USA'),\n",
    "        ('Toyota', 'Japan'),\n",
    "        ('BMW', 'Germany'),\n",
    "        ('Mercedes-Benz', 'Germany'),\n",
    "        ('Nissan', 'Japan'),\n",
    "        ('Volkswagen', 'Germany'),\n",
    "        ('Mitsubishi', 'Japan'),\n",
    "        ('Porsche', 'Germany'),\n",
    "        ('Mazda', 'Japan'),\n",
    "        ('Audi', 'Germany'),\n",
    "        ('Honda', 'Japan'),\n",
    "        ('Jeep', 'USA'),\n",
    "        ('Pontiac', 'USA'),\n",
    "        ('Subaru', 'Japan'),\n",
    "        ('Volvo', 'Sweden'),\n",
    "        ('Hyundai', 'South Korea'),\n",
    "        ('Chrysler', 'USA'),\n",
    "        ('Tesla', 'USA')\n",
    "    ) AS t(make, origin)\n",
    ");\n",
    "\n"
   ]
  },
  {
   "cell_type": "code",
   "execution_count": null,
   "id": "1bfaf5df",
   "metadata": {},
   "outputs": [],
   "source": [
    "%%sql\n",
    "\n",
    "WITH processed_data AS (\n",
    "    SELECT \n",
    "        v.make,\n",
    "        v.model,\n",
    "        v.year,\n",
    "        v.city08,\n",
    "        v.highway08,\n",
    "        COALESCE(om.origin, 'Unknown') AS origin,\n",
    "        STRPTIME(v.createdOn, '%a %b %d %H:%M:%S %Z %Y') AS createdOn\n",
    "    FROM vehicles AS v\n",
    "    LEFT JOIN origin_map AS om ON v.make = om.make\n",
    "    WHERE COALESCE(om.origin, 'Unknown') != 'Unknown' AND v.year < 2020\n",
    "),\n",
    " agg_data AS(\n",
    "    SELECT \n",
    "        year, \n",
    "        origin,\n",
    "        AVG(city08) AS avg_city08\n",
    "    FROM processed_data\n",
    "    GROUP BY year, origin\n",
    "    ORDER BY year, origin\n",
    ")\n",
    "\n",
    "PIVOT agg_data\n",
    "ON origin\n",
    "USING mean(avg_city08)\n",
    "GROUP BY year\n"
   ]
  },
  {
   "cell_type": "code",
   "execution_count": null,
   "id": "4eaef17d",
   "metadata": {},
   "outputs": [],
   "source": [
    "res = _\n",
    "res"
   ]
  },
  {
   "cell_type": "code",
   "execution_count": null,
   "id": "2cdfb593",
   "metadata": {},
   "outputs": [],
   "source": [
    "(res\n",
    " .set_index('year')\n",
    " .plot()\n",
    ")"
   ]
  },
  {
   "cell_type": "code",
   "execution_count": null,
   "id": "215a6208",
   "metadata": {},
   "outputs": [],
   "source": []
  },
  {
   "cell_type": "code",
   "execution_count": null,
   "id": "06e482c4",
   "metadata": {},
   "outputs": [],
   "source": []
  },
  {
   "attachments": {},
   "cell_type": "markdown",
   "id": "0f3f24de",
   "metadata": {},
   "source": [
    "## Exponential Growth"
   ]
  },
  {
   "cell_type": "code",
   "execution_count": null,
   "id": "28d35a4e",
   "metadata": {},
   "outputs": [],
   "source": [
    "# I invest $1 and it grows by 1% every day for 1,000 days\n",
    "# how would I calculate the value with pandas?\n",
    "import pandas as pd\n",
    "investment = pd.Series([1])\n",
    "\n",
    "def compound_growth(start, rate, periods):\n",
    "    result = pd.Series([start]*periods, dtype='float64[pyarrow]')\n",
    "    for i in range(1, periods+1):\n",
    "        result[i] = result[i-1] * (1+rate)\n",
    "    return result\n",
    "\n",
    "compound_growth(1, 0.01, 10_000)\n",
    "\n",
    "# Here is the equivalent SQL\n",
    "\n",
    "query = '''WITH RECURSIVE CompoundGrowth(day, value) AS (\n",
    "    SELECT 1, 1.00 -- Initial investment of $1 on day 1\n",
    "    UNION ALL\n",
    "    SELECT day + 1, value * 1.01 -- Compound growth of 1% per day\n",
    "    FROM CompoundGrowth\n",
    "    WHERE day < 10000\n",
    ")\n",
    "SELECT * FROM CompoundGrowth;\n",
    "'''"
   ]
  },
  {
   "cell_type": "code",
   "execution_count": null,
   "id": "26f8f424",
   "metadata": {},
   "outputs": [],
   "source": [
    "import duckdb\n",
    "con_mem = duckdb.connect(':memory:')\n",
    "query = '''WITH RECURSIVE CompoundGrowth(day, value) AS (\n",
    "    SELECT 1, 1.00::DOUBLE -- Initial investment of $1 on day 1\n",
    "    UNION ALL\n",
    "    SELECT day + 1, value * 1.01 -- Compound growth of 1% per day\n",
    "    FROM CompoundGrowth\n",
    "    WHERE day < 10000\n",
    ")\n",
    "SELECT * FROM CompoundGrowth;\n",
    "'''\n",
    "con_mem.sql(query).df()"
   ]
  },
  {
   "cell_type": "code",
   "execution_count": null,
   "id": "5a60df77",
   "metadata": {},
   "outputs": [],
   "source": []
  },
  {
   "attachments": {},
   "cell_type": "markdown",
   "id": "ad127b2c",
   "metadata": {},
   "source": [
    "## Arrow Integration"
   ]
  },
  {
   "cell_type": "code",
   "execution_count": null,
   "id": "2456f563",
   "metadata": {},
   "outputs": [],
   "source": [
    "# read from polars\n",
    "import polars as pl\n",
    "df_pl = pl.read_csv('vehicles-pd.csv')\n",
    "duckdb.sql('select * from df_pl').show()\n"
   ]
  },
  {
   "cell_type": "code",
   "execution_count": null,
   "id": "19a4a916",
   "metadata": {},
   "outputs": [],
   "source": [
    "# Convert output to polars\n",
    "duckdb.sql('SELECT * FROM df_pl LIMIT 2').pl()"
   ]
  },
  {
   "cell_type": "code",
   "execution_count": null,
   "id": "c437af34",
   "metadata": {},
   "outputs": [],
   "source": [
    "# Read from pandas\n",
    "import pandas as pd\n",
    "import duckdb\n",
    "df_pd = pd.read_csv('vehicles-pd.csv', dtype_backend='pyarrow')\n",
    "duckdb.sql('select * from df_pd').show()\n"
   ]
  },
  {
   "cell_type": "code",
   "execution_count": null,
   "id": "c437af34",
   "metadata": {},
   "outputs": [],
   "source": [
    "# Convert results to Pandas (not using pyarrow)\n",
    "df_pd = pd.read_csv('vehicles-pd.csv', dtype_backend='pyarrow')\n",
    "duckdb.sql('select * from df_pd').df()\n"
   ]
  },
  {
   "cell_type": "code",
   "execution_count": null,
   "id": "a3eeabad",
   "metadata": {},
   "outputs": [],
   "source": []
  },
  {
   "attachments": {},
   "cell_type": "markdown",
   "id": "b0de22f5",
   "metadata": {},
   "source": [
    "## DuckDB Exercises\n",
    "\n",
    "1. **Basic DataFrame Operations**\n",
    "   - Show the shape of the vehicles Database. (Hint: `COUNT(*)` is your friend)\n",
    "   - Print the first 5 rows. (Hint: `LIMIT` is your friend)\n",
    "   - Print the last 5 rows. (Hint: not really possible in DuckDB as rows are not ordered. Ok, it kind of is with `OFFSET` and `LIMIT`)\n",
    "   - Print the list of columns. (Hint: See `information_schema.columns` table)\n",
    "\n",
    "2. **Data Exploration**\n",
    "   - Print the number of unique values in each column of the vehicles Database. (Hint: see `COUNT(DISTINCT column_name)` and don't worry about every column)\n",
    "   - Print the number of null values in each column. (Hint: see `WHERE column IS NULL` and don't worry about every column, maybe try the cylinders column)\n",
    "   - Print the mean and standard deviation of the 'city08' column. (Hint: see `AVG` and `STDDEV` functions)\n",
    "   - Print the median and 75th percentile of the 'city08' column. (Hint: `PERCENTILE_CONT(0.5) WITHIN GROUP (ORDER BY city08) AS median_city08`  or for an easier life, see `QUANTILE` function)\n",
    "\n",
    "3. **String Manipulation**\n",
    "   - Upper case the 'make' column (Hint: see `UPPER` function)\n",
    "   - Combine the 'year' and 'make' columns into a new column called 'year_make'. (Hint: use `||` to concatenate strings)\n",
    "\n",
    "4. **Datetime Conversion**\n",
    "   - Convert the 'createdOn' column to the New York timezone. \n",
    "      - You can see the current timezone with  `SELECT * FROM duckdb_settings() WHERE name = 'TimeZone'`\n",
    "      - You can set the timezone with  `SET TimeZone = 'America/New_York';`\n",
    "\n",
    "5. **Data Filtering**\n",
    "   - Filter data to only include rows where the 'make' column is 'Ford'.\n",
    "   - Filter the data to only include rows where the 'model' column is a single word. (Hint: see `SPLIT_PART` function)\n",
    "   - Filter the rows where the city mileage is greater than 75% of the city mileage values.\n",
    "\n",
    "6. **Grouping and Aggregation (Moderate)**\n",
    "   - Find the average mileage for Ford, Tesla, and Toyota vehicles. (Hint: see `GROUP BY` and `WHERE ... IN ... `)\n",
    "   - Find the average mileage by year and make. Pivot for bonus points. (Bonus Hint: Create CTE with `WITH` and then `SELECT` from it with `PIVOT`)\n"
   ]
  },
  {
   "cell_type": "code",
   "execution_count": null,
   "id": "a5424333",
   "metadata": {},
   "outputs": [],
   "source": []
  },
  {
   "cell_type": "code",
   "execution_count": null,
   "id": "c423371b",
   "metadata": {},
   "outputs": [],
   "source": []
  },
  {
   "cell_type": "code",
   "execution_count": null,
   "id": "7f8ce33d",
   "metadata": {},
   "outputs": [],
   "source": []
  },
  {
   "attachments": {},
   "cell_type": "markdown",
   "id": "fdcd42c9",
   "metadata": {},
   "source": [
    "# Summary\n",
    "\n",
    "- Pandas 2 provides speed improvements over Pandas 1, but is still single threaded\n",
    "- Polars is fast but a new syntax to learn\n",
    "- DuckDB is fast and SQL is familiar, but not all SQL functions are available. You tend to write a lot of SQL to get the job done.\n",
    "\n",
    "Contact me at [matt@metasnake.com] I'm on Twitter at @\\_\\_mharrison\\_\\_ \n",
    "\n",
    "I would love to teach your teams to use these tools effectively. Expect a Pandas 2 book from me soon."
   ]
  },
  {
   "cell_type": "code",
   "execution_count": null,
   "id": "67511dcb-5125-4590-a1b7-4651c8c2b5e1",
   "metadata": {},
   "outputs": [],
   "source": []
  }
 ],
 "metadata": {
  "kernelspec": {
   "display_name": "Python 3 (ipykernel)",
   "language": "python",
   "name": "python3"
  },
  "language_info": {
   "codemirror_mode": {
    "name": "ipython",
    "version": 3
   },
   "file_extension": ".py",
   "mimetype": "text/x-python",
   "name": "python",
   "nbconvert_exporter": "python",
   "pygments_lexer": "ipython3",
   "version": "3.10.13"
  },
  "vscode": {
   "interpreter": {
    "hash": "391a112c5d8063bb1ed75e17f94ea9abfe7bf72365421a70d5e3491b1de003be"
   }
  }
 },
 "nbformat": 4,
 "nbformat_minor": 5
}
